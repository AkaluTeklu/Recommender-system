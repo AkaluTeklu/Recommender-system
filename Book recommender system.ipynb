{
 "cells": [
  {
   "cell_type": "markdown",
   "id": "2ef51500",
   "metadata": {},
   "source": [
    "### Book Recommendation with Keras"
   ]
  },
  {
   "cell_type": "code",
   "execution_count": 3,
   "id": "93985013",
   "metadata": {},
   "outputs": [],
   "source": [
    "import numpy as np \n",
    "import pandas as pd \n",
    "import matplotlib.pyplot as plt\n",
    "import tensorflow as tf\n",
    "\n",
    "from sklearn.model_selection import train_test_split\n",
    "from keras.layers import Dense, Flatten, Embedding, Dot, Concatenate, Input\n",
    "from keras.models import Model"
   ]
  },
  {
   "cell_type": "markdown",
   "id": "4b528c4e",
   "metadata": {},
   "source": [
    "#### Rating in the dataset"
   ]
  },
  {
   "cell_type": "code",
   "execution_count": 6,
   "id": "da4a6292",
   "metadata": {},
   "outputs": [],
   "source": [
    "# rating_dataset\n",
    "\n",
    "rating = pd.read_csv('Ratings.csv')\n",
    "\n",
    "# books_dataset\n",
    "\n",
    "books = pd.read_csv('Books.csv')"
   ]
  },
  {
   "cell_type": "code",
   "execution_count": 7,
   "id": "59dab45a",
   "metadata": {},
   "outputs": [
    {
     "data": {
      "text/html": [
       "<div>\n",
       "<style scoped>\n",
       "    .dataframe tbody tr th:only-of-type {\n",
       "        vertical-align: middle;\n",
       "    }\n",
       "\n",
       "    .dataframe tbody tr th {\n",
       "        vertical-align: top;\n",
       "    }\n",
       "\n",
       "    .dataframe thead th {\n",
       "        text-align: right;\n",
       "    }\n",
       "</style>\n",
       "<table border=\"1\" class=\"dataframe\">\n",
       "  <thead>\n",
       "    <tr style=\"text-align: right;\">\n",
       "      <th></th>\n",
       "      <th>book_id</th>\n",
       "      <th>user_id</th>\n",
       "      <th>rating</th>\n",
       "    </tr>\n",
       "  </thead>\n",
       "  <tbody>\n",
       "    <tr>\n",
       "      <th>0</th>\n",
       "      <td>1</td>\n",
       "      <td>314</td>\n",
       "      <td>5</td>\n",
       "    </tr>\n",
       "    <tr>\n",
       "      <th>1</th>\n",
       "      <td>1</td>\n",
       "      <td>439</td>\n",
       "      <td>3</td>\n",
       "    </tr>\n",
       "    <tr>\n",
       "      <th>2</th>\n",
       "      <td>1</td>\n",
       "      <td>588</td>\n",
       "      <td>5</td>\n",
       "    </tr>\n",
       "    <tr>\n",
       "      <th>3</th>\n",
       "      <td>1</td>\n",
       "      <td>1169</td>\n",
       "      <td>4</td>\n",
       "    </tr>\n",
       "    <tr>\n",
       "      <th>4</th>\n",
       "      <td>1</td>\n",
       "      <td>1185</td>\n",
       "      <td>4</td>\n",
       "    </tr>\n",
       "  </tbody>\n",
       "</table>\n",
       "</div>"
      ],
      "text/plain": [
       "   book_id  user_id  rating\n",
       "0        1      314       5\n",
       "1        1      439       3\n",
       "2        1      588       5\n",
       "3        1     1169       4\n",
       "4        1     1185       4"
      ]
     },
     "execution_count": 7,
     "metadata": {},
     "output_type": "execute_result"
    }
   ],
   "source": [
    "rating.head() "
   ]
  },
  {
   "cell_type": "markdown",
   "id": "07c6ef3d",
   "metadata": {},
   "source": [
    "The Id of the book, the userId and the rating given to the book by the user are specified in the column"
   ]
  },
  {
   "cell_type": "code",
   "execution_count": 8,
   "id": "4a84981a",
   "metadata": {},
   "outputs": [
    {
     "data": {
      "text/html": [
       "<div>\n",
       "<style scoped>\n",
       "    .dataframe tbody tr th:only-of-type {\n",
       "        vertical-align: middle;\n",
       "    }\n",
       "\n",
       "    .dataframe tbody tr th {\n",
       "        vertical-align: top;\n",
       "    }\n",
       "\n",
       "    .dataframe thead th {\n",
       "        text-align: right;\n",
       "    }\n",
       "</style>\n",
       "<table border=\"1\" class=\"dataframe\">\n",
       "  <thead>\n",
       "    <tr style=\"text-align: right;\">\n",
       "      <th></th>\n",
       "      <th>Unnamed: 0</th>\n",
       "      <th>ISBN</th>\n",
       "      <th>book_id</th>\n",
       "      <th>Publication Year</th>\n",
       "      <th>Author</th>\n",
       "      <th>Title</th>\n",
       "      <th>AvgRating</th>\n",
       "      <th>Image-URL</th>\n",
       "      <th>Image-URL-S</th>\n",
       "    </tr>\n",
       "  </thead>\n",
       "  <tbody>\n",
       "    <tr>\n",
       "      <th>0</th>\n",
       "      <td>0</td>\n",
       "      <td>0195153448</td>\n",
       "      <td>1</td>\n",
       "      <td>2008</td>\n",
       "      <td>Suzanne Collins</td>\n",
       "      <td>The Hunger Games (The Hunger Games, #1)</td>\n",
       "      <td>4.34</td>\n",
       "      <td>https://images.gr-assets.com/books/1447303603m...</td>\n",
       "      <td>https://images.gr-assets.com/books/1447303603s...</td>\n",
       "    </tr>\n",
       "    <tr>\n",
       "      <th>1</th>\n",
       "      <td>1</td>\n",
       "      <td>0002005018</td>\n",
       "      <td>2</td>\n",
       "      <td>1997</td>\n",
       "      <td>J.K. Rowling, Mary GrandPré</td>\n",
       "      <td>Harry Potter and the Sorcerer's Stone (Harry P...</td>\n",
       "      <td>4.44</td>\n",
       "      <td>https://images.gr-assets.com/books/1474154022m...</td>\n",
       "      <td>https://images.gr-assets.com/books/1474154022s...</td>\n",
       "    </tr>\n",
       "    <tr>\n",
       "      <th>2</th>\n",
       "      <td>2</td>\n",
       "      <td>0060973129</td>\n",
       "      <td>3</td>\n",
       "      <td>2005</td>\n",
       "      <td>Stephenie Meyer</td>\n",
       "      <td>Twilight (Twilight, #1)</td>\n",
       "      <td>3.57</td>\n",
       "      <td>https://images.gr-assets.com/books/1361039443m...</td>\n",
       "      <td>https://images.gr-assets.com/books/1361039443s...</td>\n",
       "    </tr>\n",
       "    <tr>\n",
       "      <th>3</th>\n",
       "      <td>3</td>\n",
       "      <td>0374157065</td>\n",
       "      <td>4</td>\n",
       "      <td>1960</td>\n",
       "      <td>Harper Lee</td>\n",
       "      <td>To Kill a Mockingbird</td>\n",
       "      <td>4.25</td>\n",
       "      <td>https://images.gr-assets.com/books/1361975680m...</td>\n",
       "      <td>https://images.gr-assets.com/books/1361975680s...</td>\n",
       "    </tr>\n",
       "    <tr>\n",
       "      <th>4</th>\n",
       "      <td>4</td>\n",
       "      <td>0393045218</td>\n",
       "      <td>5</td>\n",
       "      <td>1925</td>\n",
       "      <td>F. Scott Fitzgerald</td>\n",
       "      <td>The Great Gatsby</td>\n",
       "      <td>3.89</td>\n",
       "      <td>https://images.gr-assets.com/books/1490528560m...</td>\n",
       "      <td>https://images.gr-assets.com/books/1490528560s...</td>\n",
       "    </tr>\n",
       "  </tbody>\n",
       "</table>\n",
       "</div>"
      ],
      "text/plain": [
       "   Unnamed: 0        ISBN  book_id  Publication Year  \\\n",
       "0           0  0195153448        1              2008   \n",
       "1           1  0002005018        2              1997   \n",
       "2           2  0060973129        3              2005   \n",
       "3           3  0374157065        4              1960   \n",
       "4           4  0393045218        5              1925   \n",
       "\n",
       "                        Author  \\\n",
       "0              Suzanne Collins   \n",
       "1  J.K. Rowling, Mary GrandPré   \n",
       "2              Stephenie Meyer   \n",
       "3                   Harper Lee   \n",
       "4          F. Scott Fitzgerald   \n",
       "\n",
       "                                               Title  AvgRating  \\\n",
       "0            The Hunger Games (The Hunger Games, #1)       4.34   \n",
       "1  Harry Potter and the Sorcerer's Stone (Harry P...       4.44   \n",
       "2                            Twilight (Twilight, #1)       3.57   \n",
       "3                              To Kill a Mockingbird       4.25   \n",
       "4                                   The Great Gatsby       3.89   \n",
       "\n",
       "                                           Image-URL  \\\n",
       "0  https://images.gr-assets.com/books/1447303603m...   \n",
       "1  https://images.gr-assets.com/books/1474154022m...   \n",
       "2  https://images.gr-assets.com/books/1361039443m...   \n",
       "3  https://images.gr-assets.com/books/1361975680m...   \n",
       "4  https://images.gr-assets.com/books/1490528560m...   \n",
       "\n",
       "                                         Image-URL-S  \n",
       "0  https://images.gr-assets.com/books/1447303603s...  \n",
       "1  https://images.gr-assets.com/books/1474154022s...  \n",
       "2  https://images.gr-assets.com/books/1361039443s...  \n",
       "3  https://images.gr-assets.com/books/1361975680s...  \n",
       "4  https://images.gr-assets.com/books/1490528560s...  "
      ]
     },
     "execution_count": 8,
     "metadata": {},
     "output_type": "execute_result"
    }
   ],
   "source": [
    "books.head()"
   ]
  },
  {
   "cell_type": "code",
   "execution_count": 9,
   "id": "bb2c1aa6",
   "metadata": {},
   "outputs": [
    {
     "name": "stdout",
     "output_type": "stream",
     "text": [
      "The number of users - 53424\n",
      "The number of books - 10000\n"
     ]
    }
   ],
   "source": [
    "# unique books and users\n",
    "n_users = rating.user_id.nunique()\n",
    "n_books = rating.book_id.nunique()\n",
    "\n",
    "print(\"The number of users -\", n_users)\n",
    "print(\"The number of books -\", n_books)"
   ]
  },
  {
   "cell_type": "code",
   "execution_count": 10,
   "id": "bcce34bf",
   "metadata": {},
   "outputs": [
    {
     "name": "stdout",
     "output_type": "stream",
     "text": [
      "<class 'pandas.core.frame.DataFrame'>\n",
      "RangeIndex: 981756 entries, 0 to 981755\n",
      "Data columns (total 3 columns):\n",
      " #   Column   Non-Null Count   Dtype\n",
      "---  ------   --------------   -----\n",
      " 0   book_id  981756 non-null  int64\n",
      " 1   user_id  981756 non-null  int64\n",
      " 2   rating   981756 non-null  int64\n",
      "dtypes: int64(3)\n",
      "memory usage: 22.5 MB\n"
     ]
    }
   ],
   "source": [
    "rating.info()"
   ]
  },
  {
   "cell_type": "code",
   "execution_count": 12,
   "id": "e8505cb7",
   "metadata": {},
   "outputs": [
    {
     "name": "stdout",
     "output_type": "stream",
     "text": [
      "<class 'pandas.core.frame.DataFrame'>\n",
      "RangeIndex: 10000 entries, 0 to 9999\n",
      "Data columns (total 9 columns):\n",
      " #   Column            Non-Null Count  Dtype  \n",
      "---  ------            --------------  -----  \n",
      " 0   Unnamed: 0        10000 non-null  int64  \n",
      " 1   ISBN              10000 non-null  object \n",
      " 2   book_id           10000 non-null  int64  \n",
      " 3   Publication Year  10000 non-null  int64  \n",
      " 4   Author            10000 non-null  object \n",
      " 5   Title             10000 non-null  object \n",
      " 6   AvgRating         10000 non-null  float64\n",
      " 7   Image-URL         10000 non-null  object \n",
      " 8   Image-URL-S       10000 non-null  object \n",
      "dtypes: float64(1), int64(3), object(5)\n",
      "memory usage: 703.2+ KB\n"
     ]
    }
   ],
   "source": [
    "books.info()"
   ]
  },
  {
   "cell_type": "markdown",
   "id": "6ffc9084",
   "metadata": {},
   "source": [
    "#### Splitting the dataset into train and test"
   ]
  },
  {
   "cell_type": "code",
   "execution_count": 13,
   "id": "1d79c46a",
   "metadata": {},
   "outputs": [],
   "source": [
    "train, test = train_test_split(rating, test_size=0.3, random_state=13)"
   ]
  },
  {
   "cell_type": "markdown",
   "id": "cb1c52c2",
   "metadata": {},
   "source": [
    "#### Embeddings and Model Architecture"
   ]
  },
  {
   "cell_type": "code",
   "execution_count": 14,
   "id": "cee34f82",
   "metadata": {},
   "outputs": [],
   "source": [
    "# create book embedding path\n",
    "\n",
    "book_input = Input(shape=[1], name=\"Book-Input\")\n",
    "book_embedding= Embedding(n_books+1, 5, name=\"Book-Embedding\")(book_input)\n",
    "book_vec = Flatten(name=\"Flatten-Books\")(book_embedding) #converting into matrix"
   ]
  },
  {
   "cell_type": "code",
   "execution_count": 15,
   "id": "d2ee8092",
   "metadata": {},
   "outputs": [],
   "source": [
    "# create user embedding path\n",
    "\n",
    "user_input = Input(shape=[1], name=\"User-Input\")\n",
    "user_embedding= Embedding(n_books+1, 5, name=\"User-Embedding\")(user_input)\n",
    "user_vec = Flatten(name=\"Flatten-Users\")(user_embedding)"
   ]
  },
  {
   "cell_type": "code",
   "execution_count": 18,
   "id": "218a85c8",
   "metadata": {},
   "outputs": [],
   "source": [
    "# concatenate features\n",
    "\n",
    "conc = Concatenate()([book_vec, user_vec])"
   ]
  },
  {
   "cell_type": "code",
   "execution_count": 21,
   "id": "4b104438",
   "metadata": {},
   "outputs": [],
   "source": [
    "# add fully connected layers \n",
    "\n",
    "fc1 = Dense(128, activation=\"relu\")(conc)\n",
    "fc2 = Dense(32, activation=\"relu\")(fc1)\n",
    "output= Dense(1)(fc2)"
   ]
  },
  {
   "cell_type": "code",
   "execution_count": 22,
   "id": "2ecd76dd",
   "metadata": {},
   "outputs": [],
   "source": [
    "# create a model and compile it\n",
    "model = Model([user_input, book_input], output)\n",
    "model.compile(\"adam\", \"mean_squared_error\")\n"
   ]
  },
  {
   "cell_type": "markdown",
   "id": "57b133ab",
   "metadata": {},
   "source": [
    "#### Train the model"
   ]
  },
  {
   "cell_type": "code",
   "execution_count": 23,
   "id": "2e0ee4e2",
   "metadata": {},
   "outputs": [
    {
     "name": "stdout",
     "output_type": "stream",
     "text": [
      "Epoch 1/10\n",
      "21476/21476 [==============================] - 130s 6ms/step - loss: 0.9338\n",
      "Epoch 2/10\n",
      "21476/21476 [==============================] - 127s 6ms/step - loss: 0.8699\n",
      "Epoch 3/10\n",
      "21476/21476 [==============================] - 129s 6ms/step - loss: 0.8588\n",
      "Epoch 4/10\n",
      "21476/21476 [==============================] - 128s 6ms/step - loss: 0.8495\n",
      "Epoch 5/10\n",
      "21476/21476 [==============================] - 127s 6ms/step - loss: 0.8419\n",
      "Epoch 6/10\n",
      "21476/21476 [==============================] - 128s 6ms/step - loss: 0.8352\n",
      "Epoch 7/10\n",
      "21476/21476 [==============================] - 128s 6ms/step - loss: 0.8287\n",
      "Epoch 8/10\n",
      "21476/21476 [==============================] - 127s 6ms/step - loss: 0.8229\n",
      "Epoch 9/10\n",
      "21476/21476 [==============================] - 127s 6ms/step - loss: 0.8177\n",
      "Epoch 10/10\n",
      "21476/21476 [==============================] - 127s 6ms/step - loss: 0.8134\n"
     ]
    }
   ],
   "source": [
    "history= model.fit(x=[train.user_id, train.book_id], y=train.rating, epochs=10, verbose=1)"
   ]
  },
  {
   "cell_type": "markdown",
   "id": "537c33e8",
   "metadata": {},
   "source": [
    "#### Evaluation and prediction"
   ]
  },
  {
   "cell_type": "code",
   "execution_count": 24,
   "id": "512eec91",
   "metadata": {},
   "outputs": [
    {
     "name": "stdout",
     "output_type": "stream",
     "text": [
      "9204/9204 [==============================] - 26s 3ms/step - loss: 0.8883\n"
     ]
    },
    {
     "data": {
      "text/plain": [
       "0.8883085250854492"
      ]
     },
     "execution_count": 24,
     "metadata": {},
     "output_type": "execute_result"
    }
   ],
   "source": [
    "# Evaluation\n",
    "model.evaluate([test.user_id, test.book_id], y=test.rating)"
   ]
  },
  {
   "cell_type": "code",
   "execution_count": 25,
   "id": "91042e47",
   "metadata": {},
   "outputs": [
    {
     "name": "stdout",
     "output_type": "stream",
     "text": [
      "1/1 [==============================] - 0s 126ms/step\n",
      "predicted Rating - [3.6055088] Actual rating - 4\n",
      "predicted Rating - [3.6102397] Actual rating - 4\n",
      "predicted Rating - [3.7792113] Actual rating - 2\n",
      "predicted Rating - [4.0546637] Actual rating - 5\n",
      "predicted Rating - [3.628289] Actual rating - 2\n",
      "predicted Rating - [3.406718] Actual rating - 5\n",
      "predicted Rating - [3.721266] Actual rating - 4\n",
      "predicted Rating - [3.5898309] Actual rating - 3\n",
      "predicted Rating - [4.587221] Actual rating - 5\n",
      "predicted Rating - [2.6353424] Actual rating - 4\n"
     ]
    }
   ],
   "source": [
    "# Predictions\n",
    "predictions = model.predict([test.user_id.head(10), test.book_id.head(10)])\n",
    "\n",
    "for i in range(0,10):\n",
    "    print(\"predicted Rating -\", predictions[i], \"Actual rating -\",test.rating.iloc[i])"
   ]
  },
  {
   "cell_type": "markdown",
   "id": "244a0db9",
   "metadata": {},
   "source": [
    "#### Making recommendation"
   ]
  },
  {
   "cell_type": "code",
   "execution_count": 26,
   "id": "162d42ba",
   "metadata": {},
   "outputs": [
    {
     "data": {
      "text/plain": [
       "array([    1,     2,     3, ...,  9998,  9999, 10000])"
      ]
     },
     "execution_count": 26,
     "metadata": {},
     "output_type": "execute_result"
    }
   ],
   "source": [
    "#create dataset for making recommendations for the picked user\n",
    "\n",
    "picked_userid = 150\n",
    "book_data = np.array(list(set(test.book_id)))\n",
    "book_data"
   ]
  },
  {
   "cell_type": "code",
   "execution_count": 27,
   "id": "3c3af091",
   "metadata": {},
   "outputs": [
    {
     "data": {
      "text/plain": [
       "array([150, 150, 150, ..., 150, 150, 150])"
      ]
     },
     "execution_count": 27,
     "metadata": {},
     "output_type": "execute_result"
    }
   ],
   "source": [
    "user=np.array([picked_userid for i in range(len(book_data))])\n",
    "user"
   ]
  },
  {
   "cell_type": "code",
   "execution_count": 30,
   "id": "c631c743",
   "metadata": {},
   "outputs": [
    {
     "name": "stdout",
     "output_type": "stream",
     "text": [
      "313/313 [==============================] - 1s 2ms/step\n",
      "[5.0649934 5.036704  5.0277853 4.9777    4.9375057]\n"
     ]
    }
   ],
   "source": [
    "predict_1= model.predict([user, book_data])\n",
    "\n",
    "predictions= np.array([a[0] for a in predict_1])\n",
    "\n",
    "recommended_book_ids=(-predictions).argsort()[:5]\n",
    "\n",
    "recommended_book_ids\n",
    "\n",
    "#print predicted score\n",
    "\n",
    "print(predictions[recommended_book_ids])"
   ]
  },
  {
   "cell_type": "code",
   "execution_count": 31,
   "id": "92dfd9e9",
   "metadata": {},
   "outputs": [
    {
     "data": {
      "text/html": [
       "<div>\n",
       "<style scoped>\n",
       "    .dataframe tbody tr th:only-of-type {\n",
       "        vertical-align: middle;\n",
       "    }\n",
       "\n",
       "    .dataframe tbody tr th {\n",
       "        vertical-align: top;\n",
       "    }\n",
       "\n",
       "    .dataframe thead th {\n",
       "        text-align: right;\n",
       "    }\n",
       "</style>\n",
       "<table border=\"1\" class=\"dataframe\">\n",
       "  <thead>\n",
       "    <tr style=\"text-align: right;\">\n",
       "      <th></th>\n",
       "      <th>Unnamed: 0</th>\n",
       "      <th>ISBN</th>\n",
       "      <th>book_id</th>\n",
       "      <th>Publication Year</th>\n",
       "      <th>Author</th>\n",
       "      <th>Title</th>\n",
       "      <th>AvgRating</th>\n",
       "      <th>Image-URL</th>\n",
       "      <th>Image-URL-S</th>\n",
       "    </tr>\n",
       "  </thead>\n",
       "  <tbody>\n",
       "    <tr>\n",
       "      <th>1306</th>\n",
       "      <td>1306</td>\n",
       "      <td>1573225789</td>\n",
       "      <td>1307</td>\n",
       "      <td>2011</td>\n",
       "      <td>Caitlin Moran</td>\n",
       "      <td>How to Be a Woman</td>\n",
       "      <td>3.73</td>\n",
       "      <td>https://images.gr-assets.com/books/1405909800m...</td>\n",
       "      <td>https://images.gr-assets.com/books/1405909800s...</td>\n",
       "    </tr>\n",
       "    <tr>\n",
       "      <th>3751</th>\n",
       "      <td>3751</td>\n",
       "      <td>089190672X</td>\n",
       "      <td>3752</td>\n",
       "      <td>1924</td>\n",
       "      <td>Agatha Christie</td>\n",
       "      <td>Poirot Investiga (Hércules Poirot, #3)</td>\n",
       "      <td>4.07</td>\n",
       "      <td>https://images.gr-assets.com/books/1359475912m...</td>\n",
       "      <td>https://images.gr-assets.com/books/1359475912s...</td>\n",
       "    </tr>\n",
       "    <tr>\n",
       "      <th>4105</th>\n",
       "      <td>4105</td>\n",
       "      <td>0380713330</td>\n",
       "      <td>4106</td>\n",
       "      <td>1864</td>\n",
       "      <td>Fyodor Dostoyevsky, Christian Redl, Philip Dos...</td>\n",
       "      <td>Notes from Underground</td>\n",
       "      <td>4.15</td>\n",
       "      <td>https://images.gr-assets.com/books/1327909683m...</td>\n",
       "      <td>https://images.gr-assets.com/books/1327909683s...</td>\n",
       "    </tr>\n",
       "    <tr>\n",
       "      <th>4776</th>\n",
       "      <td>4776</td>\n",
       "      <td>0060920076</td>\n",
       "      <td>4777</td>\n",
       "      <td>1930</td>\n",
       "      <td>William Faulkner</td>\n",
       "      <td>A Rose for Emily and Other Stories</td>\n",
       "      <td>4.06</td>\n",
       "      <td>https://images.gr-assets.com/books/1487468453m...</td>\n",
       "      <td>https://images.gr-assets.com/books/1487468453s...</td>\n",
       "    </tr>\n",
       "    <tr>\n",
       "      <th>8976</th>\n",
       "      <td>8976</td>\n",
       "      <td>039914840X</td>\n",
       "      <td>8977</td>\n",
       "      <td>2012</td>\n",
       "      <td>A.J. Jacobs</td>\n",
       "      <td>Drop Dead Healthy: One Man's Humble Quest for ...</td>\n",
       "      <td>3.75</td>\n",
       "      <td>https://images.gr-assets.com/books/1344398815m...</td>\n",
       "      <td>https://images.gr-assets.com/books/1344398815s...</td>\n",
       "    </tr>\n",
       "  </tbody>\n",
       "</table>\n",
       "</div>"
      ],
      "text/plain": [
       "      Unnamed: 0        ISBN  book_id  Publication Year  \\\n",
       "1306        1306  1573225789     1307              2011   \n",
       "3751        3751  089190672X     3752              1924   \n",
       "4105        4105  0380713330     4106              1864   \n",
       "4776        4776  0060920076     4777              1930   \n",
       "8976        8976  039914840X     8977              2012   \n",
       "\n",
       "                                                 Author  \\\n",
       "1306                                      Caitlin Moran   \n",
       "3751                                    Agatha Christie   \n",
       "4105  Fyodor Dostoyevsky, Christian Redl, Philip Dos...   \n",
       "4776                                   William Faulkner   \n",
       "8976                                        A.J. Jacobs   \n",
       "\n",
       "                                                  Title  AvgRating  \\\n",
       "1306                                  How to Be a Woman       3.73   \n",
       "3751             Poirot Investiga (Hércules Poirot, #3)       4.07   \n",
       "4105                             Notes from Underground       4.15   \n",
       "4776                 A Rose for Emily and Other Stories       4.06   \n",
       "8976  Drop Dead Healthy: One Man's Humble Quest for ...       3.75   \n",
       "\n",
       "                                              Image-URL  \\\n",
       "1306  https://images.gr-assets.com/books/1405909800m...   \n",
       "3751  https://images.gr-assets.com/books/1359475912m...   \n",
       "4105  https://images.gr-assets.com/books/1327909683m...   \n",
       "4776  https://images.gr-assets.com/books/1487468453m...   \n",
       "8976  https://images.gr-assets.com/books/1344398815m...   \n",
       "\n",
       "                                            Image-URL-S  \n",
       "1306  https://images.gr-assets.com/books/1405909800s...  \n",
       "3751  https://images.gr-assets.com/books/1359475912s...  \n",
       "4105  https://images.gr-assets.com/books/1327909683s...  \n",
       "4776  https://images.gr-assets.com/books/1487468453s...  \n",
       "8976  https://images.gr-assets.com/books/1344398815s...  "
      ]
     },
     "execution_count": 31,
     "metadata": {},
     "output_type": "execute_result"
    }
   ],
   "source": [
    "# recommended books for picked user \n",
    "books[books[\"book_id\"].isin(recommended_book_ids)]"
   ]
  },
  {
   "cell_type": "code",
   "execution_count": null,
   "id": "6898bb06",
   "metadata": {},
   "outputs": [],
   "source": []
  }
 ],
 "metadata": {
  "kernelspec": {
   "display_name": "Python (GPU)",
   "language": "python",
   "name": "gpu2"
  },
  "language_info": {
   "codemirror_mode": {
    "name": "ipython",
    "version": 3
   },
   "file_extension": ".py",
   "mimetype": "text/x-python",
   "name": "python",
   "nbconvert_exporter": "python",
   "pygments_lexer": "ipython3",
   "version": "3.10.13"
  }
 },
 "nbformat": 4,
 "nbformat_minor": 5
}
